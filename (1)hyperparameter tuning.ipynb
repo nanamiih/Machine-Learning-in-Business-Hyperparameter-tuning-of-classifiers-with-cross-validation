{
 "cells": [
  {
   "cell_type": "code",
   "execution_count": 12,
   "id": "d20ad9ee-014f-4e05-a169-1be9f896ff97",
   "metadata": {},
   "outputs": [],
   "source": [
    "import pandas as pd\n",
    "from sklearn.ensemble import RandomForestClassifier\n",
    "from sklearn.tree import DecisionTreeClassifier\n",
    "from sklearn.model_selection import GridSearchCV\n",
    "from sklearn.metrics import accuracy_score, classification_report\n",
    "from sklearn.model_selection import train_test_split\n",
    "from sklearn.preprocessing import LabelEncoder"
   ]
  },
  {
   "cell_type": "code",
   "execution_count": 13,
   "id": "01aaf521-c4d6-45a6-8212-392022499c95",
   "metadata": {},
   "outputs": [],
   "source": [
    "train_data = pd.read_csv(r\"C:\\Users\\user\\Desktop\\ASU\\CIS 508\\508 HW 2\\Insurance Fraud - TRAIN-3000.csv\")\n",
    "test_data = pd.read_csv(r\"C:\\Users\\user\\Desktop\\ASU\\CIS 508\\508 HW 2\\Insurance Fraud -TEST-12900.csv\")\n",
    "\n",
    "# Combine train and test data for consistent preprocessing\n",
    "data = pd.concat([train_data, test_data], ignore_index=True)\n",
    "\n",
    "# Encode categorical features\n",
    "label_encoders = {}\n",
    "for column in data.select_dtypes(include=['object']).columns:\n",
    "    le = LabelEncoder()\n",
    "    data[column] = le.fit_transform(data[column])\n",
    "    label_encoders[column] = le"
   ]
  },
  {
   "cell_type": "code",
   "execution_count": 14,
   "id": "0d4e02ea-825d-4267-9591-b5ce09816c54",
   "metadata": {},
   "outputs": [],
   "source": [
    "# Separate the data back into train and test sets\n",
    "train_data = data[:len(train_data)]\n",
    "test_data = data[len(train_data):]"
   ]
  },
  {
   "cell_type": "code",
   "execution_count": 15,
   "id": "0f4837d7-d023-4bf8-a78b-22fbc36b9796",
   "metadata": {},
   "outputs": [],
   "source": [
    "# Define features and target variable\n",
    "X_train = train_data.drop(columns=['FRAUDFOUND'])\n",
    "y_train = train_data['FRAUDFOUND']\n",
    "X_test = test_data.drop(columns=['FRAUDFOUND'])\n",
    "y_test = test_data['FRAUDFOUND']"
   ]
  },
  {
   "cell_type": "code",
   "execution_count": 16,
   "id": "7af09b2f-569d-4738-b558-667088d490f4",
   "metadata": {},
   "outputs": [],
   "source": [
    "# Define hyperparameter grid for RandomForestClassifier\n",
    "rf_params = {\n",
    "    'n_estimators': [50, 100, 150],\n",
    "    'max_depth': [None, 10, 20],\n",
    "    'min_samples_split': [2, 5, 10]\n",
    "}"
   ]
  },
  {
   "cell_type": "code",
   "execution_count": 17,
   "id": "999e5c4d-23c1-4496-9575-82b337fb58a7",
   "metadata": {},
   "outputs": [],
   "source": [
    "# Define hyperparameter grid for DecisionTreeClassifier\n",
    "dt_params = {\n",
    "    'max_depth': [None, 10, 20],\n",
    "    'min_samples_split': [2, 5, 10],\n",
    "    'criterion': ['gini', 'entropy']\n",
    "}"
   ]
  },
  {
   "cell_type": "code",
   "execution_count": 18,
   "id": "fb78a6fb-4ddb-4497-938a-98354d290757",
   "metadata": {},
   "outputs": [],
   "source": [
    "# Hyperparameter tuning for RandomForestClassifier\n",
    "rf_model = RandomForestClassifier(random_state=42)\n",
    "rf_grid_search = GridSearchCV(rf_model, rf_params, cv=5, scoring='accuracy')\n",
    "rf_grid_search.fit(X_train, y_train)\n",
    "best_rf = rf_grid_search.best_estimator_"
   ]
  },
  {
   "cell_type": "code",
   "execution_count": 19,
   "id": "8d90db8f-3af2-4061-b0a5-70390ead3f9c",
   "metadata": {},
   "outputs": [],
   "source": [
    "# Hyperparameter tuning for DecisionTreeClassifier\n",
    "dt_model = DecisionTreeClassifier(random_state=42)\n",
    "dt_grid_search = GridSearchCV(dt_model, dt_params, cv=5, scoring='accuracy')\n",
    "dt_grid_search.fit(X_train, y_train)\n",
    "best_dt = dt_grid_search.best_estimator_"
   ]
  },
  {
   "cell_type": "code",
   "execution_count": 20,
   "id": "68eab43f-6cc7-44b1-a8da-6031c717b4f9",
   "metadata": {},
   "outputs": [],
   "source": [
    "# Evaluate the best models on the test set\n",
    "rf_predictions = best_rf.predict(X_test)\n",
    "dt_predictions = best_dt.predict(X_test)"
   ]
  },
  {
   "cell_type": "code",
   "execution_count": 21,
   "id": "ad11b857-cc24-4b84-a2fb-d8006d694774",
   "metadata": {},
   "outputs": [
    {
     "name": "stdout",
     "output_type": "stream",
     "text": [
      "Random Forest Classifier Results:\n",
      "Best Parameters: {'max_depth': 10, 'min_samples_split': 10, 'n_estimators': 50}\n",
      "Accuracy: 0.942328533828766\n",
      "              precision    recall  f1-score   support\n",
      "\n",
      "           0       0.97      0.97      0.97     12420\n",
      "           1       0.28      0.32      0.30       498\n",
      "\n",
      "    accuracy                           0.94     12918\n",
      "   macro avg       0.63      0.65      0.64     12918\n",
      "weighted avg       0.95      0.94      0.94     12918\n",
      "\n"
     ]
    }
   ],
   "source": [
    "print(\"Random Forest Classifier Results:\")\n",
    "print(\"Best Parameters:\", rf_grid_search.best_params_)\n",
    "print(\"Accuracy:\", accuracy_score(y_test, rf_predictions))\n",
    "print(classification_report(y_test, rf_predictions))"
   ]
  },
  {
   "cell_type": "code",
   "execution_count": 22,
   "id": "bef794f9-607b-4858-ad9c-3aeb4ae7ad6f",
   "metadata": {},
   "outputs": [
    {
     "name": "stdout",
     "output_type": "stream",
     "text": [
      "\n",
      "Decision Tree Classifier Results:\n",
      "Best Parameters: {'criterion': 'entropy', 'max_depth': 10, 'min_samples_split': 2}\n",
      "Accuracy: 0.8923207926923672\n",
      "              precision    recall  f1-score   support\n",
      "\n",
      "           0       0.98      0.90      0.94     12420\n",
      "           1       0.20      0.59      0.30       498\n",
      "\n",
      "    accuracy                           0.89     12918\n",
      "   macro avg       0.59      0.75      0.62     12918\n",
      "weighted avg       0.95      0.89      0.92     12918\n",
      "\n"
     ]
    }
   ],
   "source": [
    "print(\"\\nDecision Tree Classifier Results:\")\n",
    "print(\"Best Parameters:\", dt_grid_search.best_params_)\n",
    "print(\"Accuracy:\", accuracy_score(y_test, dt_predictions))\n",
    "print(classification_report(y_test, dt_predictions))"
   ]
  },
  {
   "cell_type": "code",
   "execution_count": null,
   "id": "285cdc16-7342-4a9f-b54a-b060cb08a2a1",
   "metadata": {},
   "outputs": [],
   "source": []
  },
  {
   "cell_type": "code",
   "execution_count": null,
   "id": "ab3fb5af-dd9e-4180-a90e-8ab7baaad84d",
   "metadata": {},
   "outputs": [],
   "source": []
  },
  {
   "cell_type": "code",
   "execution_count": null,
   "id": "a4e079fe-275f-478e-a648-77ef82267167",
   "metadata": {},
   "outputs": [],
   "source": []
  }
 ],
 "metadata": {
  "kernelspec": {
   "display_name": "Python 3 (ipykernel)",
   "language": "python",
   "name": "python3"
  },
  "language_info": {
   "codemirror_mode": {
    "name": "ipython",
    "version": 3
   },
   "file_extension": ".py",
   "mimetype": "text/x-python",
   "name": "python",
   "nbconvert_exporter": "python",
   "pygments_lexer": "ipython3",
   "version": "3.11.7"
  }
 },
 "nbformat": 4,
 "nbformat_minor": 5
}
